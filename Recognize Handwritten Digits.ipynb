{
 "cells": [
  {
   "cell_type": "code",
   "execution_count": 18,
   "metadata": {},
   "outputs": [],
   "source": [
    "import numpy as np\n",
    "from tensorflow import keras\n",
    "import pandas as pd\n",
    "import matplotlib.pyplot as plt\n",
    "from keras.datasets.mnist import load_data\n",
    "#data study "
   ]
  },
  {
   "cell_type": "code",
   "execution_count": 19,
   "metadata": {},
   "outputs": [],
   "source": [
    "data =load_data()"
   ]
  },
  {
   "cell_type": "code",
   "execution_count": 20,
   "metadata": {},
   "outputs": [
    {
     "data": {
      "text/plain": [
       "(2, 2)"
      ]
     },
     "execution_count": 20,
     "metadata": {},
     "output_type": "execute_result"
    }
   ],
   "source": [
    "np.shape (data)"
   ]
  },
  {
   "cell_type": "code",
   "execution_count": 21,
   "metadata": {},
   "outputs": [],
   "source": [
    "(train_images,train_labels),(test_images,test_labels)=data"
   ]
  },
  {
   "cell_type": "code",
   "execution_count": 22,
   "metadata": {},
   "outputs": [
    {
     "data": {
      "text/plain": [
       "5"
      ]
     },
     "execution_count": 22,
     "metadata": {},
     "output_type": "execute_result"
    }
   ],
   "source": [
    "train_labels[0]"
   ]
  },
  {
   "cell_type": "code",
   "execution_count": 23,
   "metadata": {},
   "outputs": [
    {
     "data": {
      "text/plain": [
       "{0, 1, 2, 3, 4, 5, 6, 7, 8, 9}"
      ]
     },
     "execution_count": 23,
     "metadata": {},
     "output_type": "execute_result"
    }
   ],
   "source": [
    "set(train_labels)"
   ]
  },
  {
   "cell_type": "code",
   "execution_count": 24,
   "metadata": {},
   "outputs": [
    {
     "name": "stdout",
     "output_type": "stream",
     "text": [
      "Shape of training data: (60000, 28, 28)\n",
      "Shape of each Training example : (28, 28)\n",
      "\n",
      "shape of testing data : (10000, 28, 28)\n",
      "shape of each testing example : (28, 28)\n"
     ]
    }
   ],
   "source": [
    "print(\"Shape of training data:\",train_images.shape)\n",
    "print(\"Shape of each Training example :\",train_images[0].shape)\n",
    "print ()\n",
    "print(\"shape of testing data :\",test_images.shape)\n",
    "print(\"shape of each testing example :\",test_images[0].shape)"
   ]
  },
  {
   "cell_type": "code",
   "execution_count": 25,
   "metadata": {},
   "outputs": [
    {
     "data": {
      "image/png": "[encoded data removed]",
      "text/plain": [
       "<Figure size 720x720 with 5 Axes>"
      ]
     },
     "metadata": {},
     "output_type": "display_data"
    }
   ],
   "source": [
    "#visualization of data\n",
    "#taking  5 images from tha data\n",
    "plt.figure (figsize=(10,10))\n",
    "for i in range(5):\n",
    "  plt.subplot(1,5,i+1)\n",
    "  plt.xticks([])\n",
    "  plt.yticks([])\n",
    "  plt.imshow(train_images[i],cmap=plt.cm.binary)\n",
    "  plt.xlabel(train_labels[i])"
   ]
  },
  {
   "cell_type": "code",
   "execution_count": 27,
   "metadata": {},
   "outputs": [],
   "source": [
    " #step 3 =data preprocessing \n",
    " #just bringin in the data in 0-1 range\n",
    " np.unique(train_images[0])\n",
    "train_images=train_images/255.0\n",
    "test_images=test_images/255.0\n"
   ]
  },
  {
   "cell_type": "code",
   "execution_count": 28,
   "metadata": {},
   "outputs": [],
   "source": [
    "model=keras.Sequential([\n",
    "    keras.layers.Flatten(input_shape=(28,28)),\n",
    "    keras.layers.Dense(128,activation='sigmoid'),\n",
    "    keras.layers.Dense(10,activation='softmax')\n",
    "])"
   ]
  },
  {
   "cell_type": "code",
   "execution_count": 29,
   "metadata": {},
   "outputs": [
    {
     "name": "stdout",
     "output_type": "stream",
     "text": [
      "Shape of weights: (784, 128)\n",
      "Shape of biases: (128,)\n"
     ]
    }
   ],
   "source": [
    "hidden_layer=model.layers[1]\n",
    "weights=hidden_layer.get_weights()\n",
    "print(\"Shape of weights:\",np.shape(weights[0]))\n",
    "print(\"Shape of biases:\",np.shape(weights[1]))"
   ]
  },
  {
   "cell_type": "code",
   "execution_count": 30,
   "metadata": {},
   "outputs": [
    {
     "name": "stdout",
     "output_type": "stream",
     "text": [
      "shape of weights : (128, 10)\n",
      "shape of biases : (10,)\n"
     ]
    }
   ],
   "source": [
    "\n",
    "output_layer=model.layers[2]\n",
    "weights=output_layer.get_weights()\n",
    "print(\"shape of weights :\",np.shape(weights[0]))\n",
    "print(\"shape of biases :\",np.shape(weights[1]))\n"
   ]
  },
  {
   "cell_type": "code",
   "execution_count": 31,
   "metadata": {},
   "outputs": [],
   "source": [
    "#compilation of model\n",
    "#one input layer on hidden layer and one output layer \n",
    "sgd=keras.optimizers.SGD(lr=0.5,decay=1e-6, momentum=0.5)\n",
    "model.compile(optimizer=sgd,\n",
    "              loss='sparse_categorical_crossentropy',\n",
    "              metrics=['accuracy'])\n",
    "#NN created\n"
   ]
  },
  {
   "cell_type": "code",
   "execution_count": 32,
   "metadata": {},
   "outputs": [
    {
     "name": "stdout",
     "output_type": "stream",
     "text": [
      "Train on 54000 samples, validate on 6000 samples\n",
      "Epoch 1/10\n",
      "54000/54000 [==============================] - 2s 43us/sample - loss: 2.4190 - accuracy: 0.1012 - val_loss: 2.3928 - val_accuracy: 0.0952\n",
      "Epoch 2/10\n",
      "54000/54000 [==============================] - 2s 30us/sample - loss: 2.3511 - accuracy: 0.1030 - val_loss: 2.4077 - val_accuracy: 0.0978\n",
      "Epoch 3/10\n",
      "54000/54000 [==============================] - 1s 25us/sample - loss: 2.3335 - accuracy: 0.1053 - val_loss: 2.3477 - val_accuracy: 0.0978\n",
      "Epoch 4/10\n",
      "54000/54000 [==============================] - 1s 25us/sample - loss: 2.3239 - accuracy: 0.1036 - val_loss: 2.3315 - val_accuracy: 0.0992\n",
      "Epoch 5/10\n",
      "54000/54000 [==============================] - 1s 23us/sample - loss: 2.3186 - accuracy: 0.1042 - val_loss: 2.3212 - val_accuracy: 0.0952\n",
      "Epoch 6/10\n",
      "54000/54000 [==============================] - 1s 23us/sample - loss: 2.3135 - accuracy: 0.1107 - val_loss: 2.3060 - val_accuracy: 0.1045\n",
      "Epoch 7/10\n",
      "54000/54000 [==============================] - 1s 25us/sample - loss: 2.3074 - accuracy: 0.1130 - val_loss: 2.3138 - val_accuracy: 0.0978\n",
      "Epoch 8/10\n",
      "54000/54000 [==============================] - 1s 24us/sample - loss: 2.3035 - accuracy: 0.1157 - val_loss: 2.3110 - val_accuracy: 0.1050\n",
      "Epoch 9/10\n",
      "54000/54000 [==============================] - 1s 26us/sample - loss: 2.2978 - accuracy: 0.1231 - val_loss: 2.2818 - val_accuracy: 0.1113\n",
      "Epoch 10/10\n",
      "54000/54000 [==============================] - 1s 24us/sample - loss: 2.2903 - accuracy: 0.1341 - val_loss: 2.2813 - val_accuracy: 0.1980\n"
     ]
    }
   ],
   "source": [
    "#model Training \n",
    "history=model.fit(train_images,train_labels,epochs=10,batch_size=100,validation_split=0.1)"
   ]
  },
  {
   "cell_type": "code",
   "execution_count": 16,
   "metadata": {},
   "outputs": [
    {
     "ename": "NameError",
     "evalue": "name 'c' is not defined",
     "output_type": "error",
     "traceback": [
      "\u001b[1;31m---------------------------------------------------------------------------\u001b[0m",
      "\u001b[1;31mNameError\u001b[0m                                 Traceback (most recent call last)",
      "\u001b[1;32m<ipython-input-16-2b66fd261ee5>\u001b[0m in \u001b[0;36m<module>\u001b[1;34m\u001b[0m\n\u001b[1;32m----> 1\u001b[1;33m \u001b[0mc\u001b[0m\u001b[1;33m\u001b[0m\u001b[1;33m\u001b[0m\u001b[0m\n\u001b[0m",
      "\u001b[1;31mNameError\u001b[0m: name 'c' is not defined"
     ]
    }
   ],
   "source": [
    "c"
   ]
  },
  {
   "cell_type": "code",
   "execution_count": 33,
   "metadata": {},
   "outputs": [
    {
     "name": "stdout",
     "output_type": "stream",
     "text": [
      "10000/10000 [==============================] - 0s 42us/sample - loss: 2.2825 - accuracy: 0.1920\n",
      "Test accuracy 0.192\n"
     ]
    }
   ],
   "source": [
    "test_loss,test_acc=model.evaluate(test_images,test_labels)\n",
    "print('Test accuracy',test_acc)"
   ]
  },
  {
   "cell_type": "code",
   "execution_count": null,
   "metadata": {},
   "outputs": [],
   "source": [
    "predictions=model.predict(test_images)"
   ]
  },
  {
   "cell_type": "code",
   "execution_count": null,
   "metadata": {},
   "outputs": [],
   "source": [
    "def plot_confidence(images,labels,predictions):\n",
    "  plt.figure(figsize=(15,30))\n",
    "  plt.subplots_adjust(top=0.99,bottom=0.01,hspace=1.5,wspace=0.4)\n",
    "  plot_index=0\n",
    "  for i in range(len(images)):\n",
    "    plot_index+=1\n",
    "    plt.subplot(len(images),2,plot_index)\n",
    "    plt.imshow(images[i],cmap=plt.cm.binary)\n",
    "    correct_label=str(labels[i])\n",
    "    predicted_label=str(np.argmax(predictions[i]))\n",
    "    title='Corrected Label:'+str(labels[i])+'\\n'+ 'predicted_label:'+str(np.argmax(predictions[i]))\n",
    "    \n",
    "    if predicted_label !=correct_label:\n",
    "      plt.title(title,backgroundcolor='r',color='w')\n",
    "    else:\n",
    "      plt.title(title,backgroundcolor='g',color='w')\n",
    "    plt.xticks([])\n",
    "    plt.yticks([])\n",
    "    plot_index+=1\n",
    "    plt.subplot(len(images),2,plot_index)\n",
    "    plt.bar(range(10),predictions[i])\n",
    "    plt.xticks(range(10))\n",
    "    plt.ylim(0,1)\n",
    "    \n",
    "\n"
   ]
  },
  {
   "cell_type": "code",
   "execution_count": null,
   "metadata": {},
   "outputs": [],
   "source": [
    "#visualize predictions from datset\n",
    "images= test_images[:10]\n",
    "labels= test_labels[:10]\n",
    "test_predictions= predictions[:10]\n",
    "plot_confidence(images,labels,test_predictions)\n"
   ]
  },
  {
   "cell_type": "code",
   "execution_count": null,
   "metadata": {},
   "outputs": [],
   "source": [
    "#visual prediction fo incorrect samples\n",
    "incorrect_indices=list()\n",
    "for i in range (len(predictions)):\n",
    "    predicted_label=np.argmax(predictions[i])\n",
    "    if predicted_label!=test_labels[i]:\n",
    "        incorrect_indices.append(i)\n",
    "print('Number of incorrectly classified images :',len(incorrect_indices))\n",
    "incorrect_indices=incorrect_indices[:10]\n",
    "\n",
    "incorrect_images=[test_images[i] for i in incorrect_indices]\n",
    "incorrect_labels=[test_labels[i] for i in incorrect_indices]\n",
    "incorrect_predictions=[predictions[i] for i in incorrect_indices]\n",
    "\n",
    "plot_confidence(incorrect_images,incorrect_labels,incorrect_predictions)\n",
    "\n",
    "\n",
    "        "
   ]
  },
  {
   "cell_type": "code",
   "execution_count": null,
   "metadata": {},
   "outputs": [],
   "source": []
  }
 ],
 "metadata": {
  "kernelspec": {
   "display_name": "Python 3",
   "language": "python",
   "name": "python3"
  },
  "language_info": {
   "codemirror_mode": {
    "name": "ipython",
    "version": 3
   },
   "file_extension": ".py",
   "mimetype": "text/x-python",
   "name": "python",
   "nbconvert_exporter": "python",
   "pygments_lexer": "ipython3",
   "version": "3.7.5"
  }
 },
 "nbformat": 4,
 "nbformat_minor": 2
}
